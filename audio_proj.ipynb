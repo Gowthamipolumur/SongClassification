{
  "nbformat": 4,
  "nbformat_minor": 0,
  "metadata": {
    "colab": {
      "provenance": [],
      "authorship_tag": "ABX9TyPyasYpY+O47DVTAVAvhTw6",
      "include_colab_link": true
    },
    "kernelspec": {
      "name": "python3",
      "display_name": "Python 3"
    },
    "language_info": {
      "name": "python"
    }
  },
  "cells": [
    {
      "cell_type": "markdown",
      "metadata": {
        "id": "view-in-github",
        "colab_type": "text"
      },
      "source": [
        "<a href=\"https://colab.research.google.com/github/Gowthamipolumur/SongClassification/blob/main/audio_proj.ipynb\" target=\"_parent\"><img src=\"https://colab.research.google.com/assets/colab-badge.svg\" alt=\"Open In Colab\"/></a>"
      ]
    },
    {
      "cell_type": "code",
      "execution_count": null,
      "metadata": {
        "colab": {
          "base_uri": "https://localhost:8080/"
        },
        "id": "B1LeH-i9ct-Y",
        "outputId": "1cc415fc-dea3-4a36-a465-d762151f46f4"
      },
      "outputs": [
        {
          "output_type": "stream",
          "name": "stdout",
          "text": [
            "Mounted at /content/drive\n"
          ]
        }
      ],
      "source": [
        "from google.colab import drive\n",
        "drive.mount('/content/drive')"
      ]
    },
    {
      "cell_type": "code",
      "source": [
        "! pip install pydub"
      ],
      "metadata": {
        "colab": {
          "base_uri": "https://localhost:8080/"
        },
        "id": "hB1jm6GYeP-W",
        "outputId": "af72bcdc-b772-4159-b2b4-06dcd5503772"
      },
      "execution_count": null,
      "outputs": [
        {
          "output_type": "stream",
          "name": "stdout",
          "text": [
            "Requirement already satisfied: pydub in /usr/local/lib/python3.10/dist-packages (0.25.1)\n"
          ]
        }
      ]
    },
    {
      "cell_type": "code",
      "source": [
        "!apt-get install -y ffmpeg"
      ],
      "metadata": {
        "colab": {
          "base_uri": "https://localhost:8080/"
        },
        "id": "sOhSHe52fOuv",
        "outputId": "a149f214-42ee-4d39-bd32-ff3a2f1c7854"
      },
      "execution_count": null,
      "outputs": [
        {
          "output_type": "stream",
          "name": "stdout",
          "text": [
            "Reading package lists... Done\n",
            "Building dependency tree... Done\n",
            "Reading state information... Done\n",
            "ffmpeg is already the newest version (7:4.4.2-0ubuntu0.22.04.1).\n",
            "0 upgraded, 0 newly installed, 0 to remove and 49 not upgraded.\n"
          ]
        }
      ]
    },
    {
      "cell_type": "code",
      "source": [
        "!sudo apt update\n",
        "!sudo apt install ffmpeg libopus0 opus-tools"
      ],
      "metadata": {
        "colab": {
          "base_uri": "https://localhost:8080/"
        },
        "id": "dloFvF5UgZpj",
        "outputId": "85247416-1e7d-4b5a-89f7-7af1d29fe5b6"
      },
      "execution_count": null,
      "outputs": [
        {
          "output_type": "stream",
          "name": "stdout",
          "text": [
            "\u001b[33m\r0% [Working]\u001b[0m\r            \rGet:1 http://security.ubuntu.com/ubuntu jammy-security InRelease [129 kB]\n",
            "\u001b[33m\r0% [Connecting to archive.ubuntu.com] [1 InRelease 12.7 kB/129 kB 10%] [Connect\u001b[0m\r                                                                               \rGet:2 https://cloud.r-project.org/bin/linux/ubuntu jammy-cran40/ InRelease [3,626 B]\n",
            "Get:3 https://developer.download.nvidia.com/compute/cuda/repos/ubuntu2204/x86_64  InRelease [1,581 B]\n",
            "Ign:4 https://r2u.stat.illinois.edu/ubuntu jammy InRelease\n",
            "Get:5 https://r2u.stat.illinois.edu/ubuntu jammy Release [5,713 B]\n",
            "Get:6 https://r2u.stat.illinois.edu/ubuntu jammy Release.gpg [793 B]\n",
            "Hit:7 http://archive.ubuntu.com/ubuntu jammy InRelease\n",
            "Get:8 http://archive.ubuntu.com/ubuntu jammy-updates InRelease [128 kB]\n",
            "Get:9 https://developer.download.nvidia.com/compute/cuda/repos/ubuntu2204/x86_64  Packages [998 kB]\n",
            "Get:10 https://ppa.launchpadcontent.net/deadsnakes/ppa/ubuntu jammy InRelease [18.1 kB]\n",
            "Get:11 http://security.ubuntu.com/ubuntu jammy-security/main amd64 Packages [2,224 kB]\n",
            "Hit:12 https://ppa.launchpadcontent.net/graphics-drivers/ppa/ubuntu jammy InRelease\n",
            "Get:13 http://security.ubuntu.com/ubuntu jammy-security/universe amd64 Packages [1,149 kB]\n",
            "Get:14 https://r2u.stat.illinois.edu/ubuntu jammy/main all Packages [8,293 kB]\n",
            "Hit:15 https://ppa.launchpadcontent.net/ubuntugis/ppa/ubuntu jammy InRelease\n",
            "Hit:16 http://archive.ubuntu.com/ubuntu jammy-backports InRelease\n",
            "Get:17 https://r2u.stat.illinois.edu/ubuntu jammy/main amd64 Packages [2,572 kB]\n",
            "Get:18 https://ppa.launchpadcontent.net/deadsnakes/ppa/ubuntu jammy/main amd64 Packages [27.8 kB]\n",
            "Get:19 http://archive.ubuntu.com/ubuntu jammy-updates/main amd64 Packages [2,499 kB]\n",
            "Get:20 http://archive.ubuntu.com/ubuntu jammy-updates/universe amd64 Packages [1,438 kB]\n",
            "Fetched 19.5 MB in 3s (7,288 kB/s)\n",
            "Reading package lists... Done\n",
            "Building dependency tree... Done\n",
            "Reading state information... Done\n",
            "51 packages can be upgraded. Run 'apt list --upgradable' to see them.\n",
            "\u001b[1;33mW: \u001b[0mSkipping acquire of configured file 'main/source/Sources' as repository 'https://r2u.stat.illinois.edu/ubuntu jammy InRelease' does not seem to provide it (sources.list entry misspelt?)\u001b[0m\n",
            "Reading package lists... Done\n",
            "Building dependency tree... Done\n",
            "Reading state information... Done\n",
            "libopus0 is already the newest version (1.3.1-0.1build2).\n",
            "libopus0 set to manually installed.\n",
            "ffmpeg is already the newest version (7:4.4.2-0ubuntu0.22.04.1).\n",
            "The following additional packages will be installed:\n",
            "  libpcap0.8\n",
            "The following NEW packages will be installed:\n",
            "  libpcap0.8 opus-tools\n",
            "0 upgraded, 2 newly installed, 0 to remove and 51 not upgraded.\n",
            "Need to get 225 kB of archives.\n",
            "After this operation, 622 kB of additional disk space will be used.\n",
            "Get:1 http://archive.ubuntu.com/ubuntu jammy/main amd64 libpcap0.8 amd64 1.10.1-4build1 [145 kB]\n",
            "Get:2 http://archive.ubuntu.com/ubuntu jammy/universe amd64 opus-tools amd64 0.1.10-1.1 [79.7 kB]\n",
            "Fetched 225 kB in 1s (272 kB/s)\n",
            "debconf: unable to initialize frontend: Dialog\n",
            "debconf: (No usable dialog-like program is installed, so the dialog based frontend cannot be used. at /usr/share/perl5/Debconf/FrontEnd/Dialog.pm line 78, <> line 2.)\n",
            "debconf: falling back to frontend: Readline\n",
            "debconf: unable to initialize frontend: Readline\n",
            "debconf: (This frontend requires a controlling tty.)\n",
            "debconf: falling back to frontend: Teletype\n",
            "dpkg-preconfigure: unable to re-open stdin: \n",
            "Selecting previously unselected package libpcap0.8:amd64.\n",
            "(Reading database ... 123597 files and directories currently installed.)\n",
            "Preparing to unpack .../libpcap0.8_1.10.1-4build1_amd64.deb ...\n",
            "Unpacking libpcap0.8:amd64 (1.10.1-4build1) ...\n",
            "Selecting previously unselected package opus-tools.\n",
            "Preparing to unpack .../opus-tools_0.1.10-1.1_amd64.deb ...\n",
            "Unpacking opus-tools (0.1.10-1.1) ...\n",
            "Setting up libpcap0.8:amd64 (1.10.1-4build1) ...\n",
            "Setting up opus-tools (0.1.10-1.1) ...\n",
            "Processing triggers for libc-bin (2.35-0ubuntu3.4) ...\n",
            "/sbin/ldconfig.real: /usr/local/lib/libur_adapter_opencl.so.0 is not a symbolic link\n",
            "\n",
            "/sbin/ldconfig.real: /usr/local/lib/libtbbbind.so.3 is not a symbolic link\n",
            "\n",
            "/sbin/ldconfig.real: /usr/local/lib/libtbbmalloc_proxy.so.2 is not a symbolic link\n",
            "\n",
            "/sbin/ldconfig.real: /usr/local/lib/libtbbbind_2_5.so.3 is not a symbolic link\n",
            "\n",
            "/sbin/ldconfig.real: /usr/local/lib/libtbb.so.12 is not a symbolic link\n",
            "\n",
            "/sbin/ldconfig.real: /usr/local/lib/libur_loader.so.0 is not a symbolic link\n",
            "\n",
            "/sbin/ldconfig.real: /usr/local/lib/libtbbmalloc.so.2 is not a symbolic link\n",
            "\n",
            "/sbin/ldconfig.real: /usr/local/lib/libur_adapter_level_zero.so.0 is not a symbolic link\n",
            "\n",
            "/sbin/ldconfig.real: /usr/local/lib/libtbbbind_2_0.so.3 is not a symbolic link\n",
            "\n",
            "Processing triggers for man-db (2.10.2-1) ...\n"
          ]
        }
      ]
    },
    {
      "cell_type": "code",
      "source": [
        "import os\n",
        "import subprocess\n",
        "import shutil\n",
        "\n",
        "# Function to convert any audio file to mp3 and save all mp3 files in a new directory, preserving folder structure\n",
        "def convert_all_to_mp3(directory, output_directory):\n",
        "    # Supported audio file extensions except mp3\n",
        "    supported_extensions = ('.aac', '.opus', '.m4a', '.wav', '.flac')\n",
        "\n",
        "    for root, dirs, files in os.walk(directory):\n",
        "        for file_name in files:\n",
        "            input_file = os.path.join(root, file_name)\n",
        "\n",
        "            # Preserve the relative path in the output folder\n",
        "            relative_path = os.path.relpath(root, directory)\n",
        "            output_dir_with_structure = os.path.join(output_directory, relative_path)\n",
        "\n",
        "            # Create the folder structure in the output directory if it doesn't exist\n",
        "            if not os.path.exists(output_dir_with_structure):\n",
        "                os.makedirs(output_dir_with_structure)\n",
        "\n",
        "            # Destination for the converted or copied mp3 file in the new directory\n",
        "            output_file = os.path.join(output_dir_with_structure, file_name.rsplit('.', 1)[0] + '.mp3')\n",
        "\n",
        "            # If the file is already an mp3, copy it to the new directory with folder structure\n",
        "            if file_name.lower().endswith('.mp3'):\n",
        "                print(f\"Copying {file_name} to {output_dir_with_structure}\")\n",
        "                shutil.copy(input_file, output_file)\n",
        "                continue\n",
        "\n",
        "            # Check if the file has a supported non-mp3 extension\n",
        "            if file_name.lower().endswith(supported_extensions):\n",
        "                # Temporary file for conversion\n",
        "                temp_output_file = os.path.join(root, file_name.rsplit('.', 1)[0] + '_temp.mp3')\n",
        "\n",
        "                try:\n",
        "                    # Construct the ffmpeg command to convert any file to .mp3\n",
        "                    command = ['ffmpeg', '-i', input_file, '-codec:a', 'libmp3lame', temp_output_file]\n",
        "                    # Run the command\n",
        "                    subprocess.run(command, check=True)\n",
        "                    print(f\"Converted {input_file} to MP3\")\n",
        "\n",
        "                    # Move the converted mp3 file to the output directory, preserving folder structure\n",
        "                    shutil.move(temp_output_file, output_file)\n",
        "                    print(f\"Saved {output_file} to {output_dir_with_structure}\")\n",
        "\n",
        "                except subprocess.CalledProcessError as e:\n",
        "                    print(f\"Error converting {input_file}: {e}\")\n",
        "\n",
        "# Path to the dataset folder\n",
        "dataset_folder = '/content/drive/MyDrive/DataSet Of Sounds'\n",
        "\n",
        "# Path to the output folder for converted mp3 files, preserving folder structure\n",
        "output_folder = '/content/drive/MyDrive/DataSet Of Sounds/converted_mp3'\n",
        "\n",
        "# Convert all supported audio files in the dataset to mp3 and save to the output folder with structure\n",
        "convert_all_to_mp3(dataset_folder, output_folder)\n"
      ],
      "metadata": {
        "id": "d2kLbVX6hF_t",
        "colab": {
          "base_uri": "https://localhost:8080/"
        },
        "outputId": "e6756ca5-2fb5-40a9-c083-35fd330e492a"
      },
      "execution_count": null,
      "outputs": [
        {
          "output_type": "stream",
          "name": "stdout",
          "text": [
            "Converted /content/drive/MyDrive/DataSet Of Sounds/Baby Shark/bs9.aac to MP3\n",
            "Saved /content/drive/MyDrive/DataSet Of Sounds/converted_mp3/Baby Shark/bs9.mp3 to /content/drive/MyDrive/DataSet Of Sounds/converted_mp3/Baby Shark\n",
            "Copying bs7.mp3 to /content/drive/MyDrive/DataSet Of Sounds/converted_mp3/Baby Shark\n",
            "Converted /content/drive/MyDrive/DataSet Of Sounds/Baby Shark/bs8.m4a to MP3\n",
            "Saved /content/drive/MyDrive/DataSet Of Sounds/converted_mp3/Baby Shark/bs8.mp3 to /content/drive/MyDrive/DataSet Of Sounds/converted_mp3/Baby Shark\n",
            "Converted /content/drive/MyDrive/DataSet Of Sounds/Baby Shark/bs6.m4a to MP3\n",
            "Saved /content/drive/MyDrive/DataSet Of Sounds/converted_mp3/Baby Shark/bs6.mp3 to /content/drive/MyDrive/DataSet Of Sounds/converted_mp3/Baby Shark\n",
            "Copying bs5.mp3 to /content/drive/MyDrive/DataSet Of Sounds/converted_mp3/Baby Shark\n",
            "Converted /content/drive/MyDrive/DataSet Of Sounds/Baby Shark/bs4.m4a to MP3\n",
            "Saved /content/drive/MyDrive/DataSet Of Sounds/converted_mp3/Baby Shark/bs4.mp3 to /content/drive/MyDrive/DataSet Of Sounds/converted_mp3/Baby Shark\n",
            "Converted /content/drive/MyDrive/DataSet Of Sounds/Baby Shark/bs2.opus to MP3\n",
            "Saved /content/drive/MyDrive/DataSet Of Sounds/converted_mp3/Baby Shark/bs2.mp3 to /content/drive/MyDrive/DataSet Of Sounds/converted_mp3/Baby Shark\n",
            "Converted /content/drive/MyDrive/DataSet Of Sounds/Baby Shark/bs3.aac to MP3\n",
            "Saved /content/drive/MyDrive/DataSet Of Sounds/converted_mp3/Baby Shark/bs3.mp3 to /content/drive/MyDrive/DataSet Of Sounds/converted_mp3/Baby Shark\n",
            "Converted /content/drive/MyDrive/DataSet Of Sounds/Baby Shark/bs1.aac to MP3\n",
            "Saved /content/drive/MyDrive/DataSet Of Sounds/converted_mp3/Baby Shark/bs1.mp3 to /content/drive/MyDrive/DataSet Of Sounds/converted_mp3/Baby Shark\n",
            "Converted /content/drive/MyDrive/DataSet Of Sounds/Old Mc Donald/od12.aac to MP3\n",
            "Saved /content/drive/MyDrive/DataSet Of Sounds/converted_mp3/Old Mc Donald/od12.mp3 to /content/drive/MyDrive/DataSet Of Sounds/converted_mp3/Old Mc Donald\n",
            "Converted /content/drive/MyDrive/DataSet Of Sounds/Old Mc Donald/od11.aac to MP3\n",
            "Saved /content/drive/MyDrive/DataSet Of Sounds/converted_mp3/Old Mc Donald/od11.mp3 to /content/drive/MyDrive/DataSet Of Sounds/converted_mp3/Old Mc Donald\n",
            "Converted /content/drive/MyDrive/DataSet Of Sounds/Old Mc Donald/od10.aac to MP3\n",
            "Saved /content/drive/MyDrive/DataSet Of Sounds/converted_mp3/Old Mc Donald/od10.mp3 to /content/drive/MyDrive/DataSet Of Sounds/converted_mp3/Old Mc Donald\n",
            "Converted /content/drive/MyDrive/DataSet Of Sounds/Old Mc Donald/od1.m4a to MP3\n",
            "Saved /content/drive/MyDrive/DataSet Of Sounds/converted_mp3/Old Mc Donald/od1.mp3 to /content/drive/MyDrive/DataSet Of Sounds/converted_mp3/Old Mc Donald\n",
            "Copying od9.mp3 to /content/drive/MyDrive/DataSet Of Sounds/converted_mp3/Old Mc Donald\n",
            "Copying od8.mp3 to /content/drive/MyDrive/DataSet Of Sounds/converted_mp3/Old Mc Donald\n",
            "Converted /content/drive/MyDrive/DataSet Of Sounds/Old Mc Donald/od6.m4a to MP3\n",
            "Saved /content/drive/MyDrive/DataSet Of Sounds/converted_mp3/Old Mc Donald/od6.mp3 to /content/drive/MyDrive/DataSet Of Sounds/converted_mp3/Old Mc Donald\n",
            "Copying od7.mp3 to /content/drive/MyDrive/DataSet Of Sounds/converted_mp3/Old Mc Donald\n",
            "Converted /content/drive/MyDrive/DataSet Of Sounds/Old Mc Donald/od5.m4a to MP3\n",
            "Saved /content/drive/MyDrive/DataSet Of Sounds/converted_mp3/Old Mc Donald/od5.mp3 to /content/drive/MyDrive/DataSet Of Sounds/converted_mp3/Old Mc Donald\n",
            "Converted /content/drive/MyDrive/DataSet Of Sounds/Old Mc Donald/od3.m4a to MP3\n",
            "Saved /content/drive/MyDrive/DataSet Of Sounds/converted_mp3/Old Mc Donald/od3.mp3 to /content/drive/MyDrive/DataSet Of Sounds/converted_mp3/Old Mc Donald\n",
            "Converted /content/drive/MyDrive/DataSet Of Sounds/Old Mc Donald/od2.m4a to MP3\n",
            "Saved /content/drive/MyDrive/DataSet Of Sounds/converted_mp3/Old Mc Donald/od2.mp3 to /content/drive/MyDrive/DataSet Of Sounds/converted_mp3/Old Mc Donald\n",
            "Converted /content/drive/MyDrive/DataSet Of Sounds/Old Mc Donald/od4.m4a to MP3\n",
            "Saved /content/drive/MyDrive/DataSet Of Sounds/converted_mp3/Old Mc Donald/od4.mp3 to /content/drive/MyDrive/DataSet Of Sounds/converted_mp3/Old Mc Donald\n",
            "Copying wb9.mp3 to /content/drive/MyDrive/DataSet Of Sounds/converted_mp3/Wheels On The Bus\n",
            "Converted /content/drive/MyDrive/DataSet Of Sounds/Wheels On The Bus/wheels on bus.aac to MP3\n",
            "Saved /content/drive/MyDrive/DataSet Of Sounds/converted_mp3/Wheels On The Bus/wheels on bus.mp3 to /content/drive/MyDrive/DataSet Of Sounds/converted_mp3/Wheels On The Bus\n",
            "Converted /content/drive/MyDrive/DataSet Of Sounds/Wheels On The Bus/wb8.m4a to MP3\n",
            "Saved /content/drive/MyDrive/DataSet Of Sounds/converted_mp3/Wheels On The Bus/wb8.mp3 to /content/drive/MyDrive/DataSet Of Sounds/converted_mp3/Wheels On The Bus\n",
            "Copying wb7.mp3 to /content/drive/MyDrive/DataSet Of Sounds/converted_mp3/Wheels On The Bus\n",
            "Converted /content/drive/MyDrive/DataSet Of Sounds/Wheels On The Bus/wb6.m4a to MP3\n",
            "Saved /content/drive/MyDrive/DataSet Of Sounds/converted_mp3/Wheels On The Bus/wb6.mp3 to /content/drive/MyDrive/DataSet Of Sounds/converted_mp3/Wheels On The Bus\n",
            "Converted /content/drive/MyDrive/DataSet Of Sounds/Wheels On The Bus/wb5.opus to MP3\n",
            "Saved /content/drive/MyDrive/DataSet Of Sounds/converted_mp3/Wheels On The Bus/wb5.mp3 to /content/drive/MyDrive/DataSet Of Sounds/converted_mp3/Wheels On The Bus\n",
            "Converted /content/drive/MyDrive/DataSet Of Sounds/Wheels On The Bus/wb4.aac to MP3\n",
            "Saved /content/drive/MyDrive/DataSet Of Sounds/converted_mp3/Wheels On The Bus/wb4.mp3 to /content/drive/MyDrive/DataSet Of Sounds/converted_mp3/Wheels On The Bus\n",
            "Converted /content/drive/MyDrive/DataSet Of Sounds/Wheels On The Bus/wb2.m4a to MP3\n",
            "Saved /content/drive/MyDrive/DataSet Of Sounds/converted_mp3/Wheels On The Bus/wb2.mp3 to /content/drive/MyDrive/DataSet Of Sounds/converted_mp3/Wheels On The Bus\n",
            "Copying wb3.mp3 to /content/drive/MyDrive/DataSet Of Sounds/converted_mp3/Wheels On The Bus\n",
            "Copying wb10.mp3 to /content/drive/MyDrive/DataSet Of Sounds/converted_mp3/Wheels On The Bus\n",
            "Converted /content/drive/MyDrive/DataSet Of Sounds/Wheels On The Bus/Wb1.aac to MP3\n",
            "Saved /content/drive/MyDrive/DataSet Of Sounds/converted_mp3/Wheels On The Bus/Wb1.mp3 to /content/drive/MyDrive/DataSet Of Sounds/converted_mp3/Wheels On The Bus\n",
            "Converted /content/drive/MyDrive/DataSet Of Sounds/Wish You a Merry Christmas/mc9.m4a to MP3\n",
            "Saved /content/drive/MyDrive/DataSet Of Sounds/converted_mp3/Wish You a Merry Christmas/mc9.mp3 to /content/drive/MyDrive/DataSet Of Sounds/converted_mp3/Wish You a Merry Christmas\n",
            "Converted /content/drive/MyDrive/DataSet Of Sounds/Wish You a Merry Christmas/mc8.opus to MP3\n",
            "Saved /content/drive/MyDrive/DataSet Of Sounds/converted_mp3/Wish You a Merry Christmas/mc8.mp3 to /content/drive/MyDrive/DataSet Of Sounds/converted_mp3/Wish You a Merry Christmas\n",
            "Converted /content/drive/MyDrive/DataSet Of Sounds/Wish You a Merry Christmas/mc7.aac to MP3\n",
            "Saved /content/drive/MyDrive/DataSet Of Sounds/converted_mp3/Wish You a Merry Christmas/mc7.mp3 to /content/drive/MyDrive/DataSet Of Sounds/converted_mp3/Wish You a Merry Christmas\n",
            "Converted /content/drive/MyDrive/DataSet Of Sounds/Wish You a Merry Christmas/mc6.m4a to MP3\n",
            "Saved /content/drive/MyDrive/DataSet Of Sounds/converted_mp3/Wish You a Merry Christmas/mc6.mp3 to /content/drive/MyDrive/DataSet Of Sounds/converted_mp3/Wish You a Merry Christmas\n",
            "Copying mc5.mp3 to /content/drive/MyDrive/DataSet Of Sounds/converted_mp3/Wish You a Merry Christmas\n",
            "Converted /content/drive/MyDrive/DataSet Of Sounds/Wish You a Merry Christmas/mc4.aac to MP3\n",
            "Saved /content/drive/MyDrive/DataSet Of Sounds/converted_mp3/Wish You a Merry Christmas/mc4.mp3 to /content/drive/MyDrive/DataSet Of Sounds/converted_mp3/Wish You a Merry Christmas\n",
            "Converted /content/drive/MyDrive/DataSet Of Sounds/Wish You a Merry Christmas/mc2.m4a to MP3\n",
            "Saved /content/drive/MyDrive/DataSet Of Sounds/converted_mp3/Wish You a Merry Christmas/mc2.mp3 to /content/drive/MyDrive/DataSet Of Sounds/converted_mp3/Wish You a Merry Christmas\n",
            "Converted /content/drive/MyDrive/DataSet Of Sounds/Wish You a Merry Christmas/mc3.aac to MP3\n",
            "Saved /content/drive/MyDrive/DataSet Of Sounds/converted_mp3/Wish You a Merry Christmas/mc3.mp3 to /content/drive/MyDrive/DataSet Of Sounds/converted_mp3/Wish You a Merry Christmas\n",
            "Converted /content/drive/MyDrive/DataSet Of Sounds/Wish You a Merry Christmas/mc11.aac to MP3\n",
            "Saved /content/drive/MyDrive/DataSet Of Sounds/converted_mp3/Wish You a Merry Christmas/mc11.mp3 to /content/drive/MyDrive/DataSet Of Sounds/converted_mp3/Wish You a Merry Christmas\n",
            "Copying mc10.mp3 to /content/drive/MyDrive/DataSet Of Sounds/converted_mp3/Wish You a Merry Christmas\n",
            "Converted /content/drive/MyDrive/DataSet Of Sounds/Wish You a Merry Christmas/mc1.aac to MP3\n",
            "Saved /content/drive/MyDrive/DataSet Of Sounds/converted_mp3/Wish You a Merry Christmas/mc1.mp3 to /content/drive/MyDrive/DataSet Of Sounds/converted_mp3/Wish You a Merry Christmas\n"
          ]
        }
      ]
    },
    {
      "cell_type": "code",
      "source": [
        "import os\n",
        "import librosa\n",
        "import numpy as np\n",
        "import matplotlib.pyplot as plt\n",
        "from sklearn.model_selection import train_test_split\n",
        "from sklearn.preprocessing import LabelEncoder, StandardScaler\n",
        "from sklearn.svm import SVC\n",
        "from sklearn.metrics import classification_report, confusion_matrix, accuracy_score\n",
        "from sklearn.ensemble import RandomForestClassifier\n",
        "from sklearn.neural_network import MLPClassifier\n",
        "\n",
        "\n",
        "# 1. Data Preprocessing\n",
        "\n",
        "# Directory of the dataset\n",
        "dataset_folder = '/content/drive/MyDrive/DataSet Of Sounds/converted_mp3'\n",
        "\n",
        "\n",
        "# Extract audio features using MFCC, Chroma, and Mel Spectrogram\n",
        "def extract_features(file_name):\n",
        "    audio, sample_rate = librosa.load(file_name, res_type='scipy')  # Load audio file\n",
        "    mfccs = librosa.feature.mfcc(y=audio, sr=sample_rate, n_mfcc=60)  # Increase MFCC coefficients to 60\n",
        "    mfccs_scaled = np.mean(mfccs.T, axis=0)\n",
        "\n",
        "    # Extract additional features\n",
        "    chroma = librosa.feature.chroma_stft(y=audio, sr=sample_rate)\n",
        "    chroma_scaled = np.mean(chroma.T, axis=0)\n",
        "\n",
        "    mel = librosa.feature.melspectrogram(y=audio, sr=sample_rate)\n",
        "    mel_scaled = np.mean(mel.T, axis=0)\n",
        "\n",
        "    # Concatenate all features\n",
        "    return np.hstack((mfccs_scaled, chroma_scaled, mel_scaled))\n",
        "\n",
        "# Prepare dataset\n",
        "def prepare_dataset(dataset_folder):\n",
        "    features = []\n",
        "    labels = []\n",
        "\n",
        "    for folder in os.listdir(dataset_folder):\n",
        "        folder_path = os.path.join(dataset_folder, folder)\n",
        "        if os.path.isdir(folder_path):  # Check if it's a directory\n",
        "            for file in os.listdir(folder_path):\n",
        "                if file.endswith(\".mp3\"):  # Assuming files are in .mp3 format\n",
        "                    file_path = os.path.join(folder_path, file)\n",
        "                    # Extract features and store them with their labels\n",
        "                    features.append(extract_features(file_path))\n",
        "                    labels.append(folder)  # Use the folder name as the label\n",
        "\n",
        "    return np.array(features), np.array(labels)"
      ],
      "metadata": {
        "id": "7xTIttMAjtIr"
      },
      "execution_count": null,
      "outputs": []
    },
    {
      "cell_type": "code",
      "source": [
        "# Load the dataset\n",
        "X, y = prepare_dataset(dataset_folder)\n",
        "\n",
        "# Encode labels to numerical values\n",
        "le = LabelEncoder()\n",
        "y_encoded = le.fit_transform(y)\n",
        "\n",
        "# Split data into training, validation, and test sets\n",
        "X_train, X_test, y_train, y_test = train_test_split(X, y_encoded, test_size=0.2, random_state=42)\n",
        "X_train, X_val, y_train, y_val = train_test_split(X_train, y_train, test_size=0.2, random_state=42)\n",
        "\n",
        "# Feature Scaling (Normalization)\n",
        "scaler = StandardScaler()\n",
        "X_train = scaler.fit_transform(X_train)\n",
        "X_val = scaler.transform(X_val)\n",
        "X_test = scaler.transform(X_test)"
      ],
      "metadata": {
        "id": "zLhEVzaI3JWP"
      },
      "execution_count": null,
      "outputs": []
    },
    {
      "cell_type": "code",
      "source": [
        "# Support Vector Machine (SVM) Classifier\n",
        "svm_model = SVC(kernel='linear', random_state=42)  # You can experiment with different kernels like 'rbf'\n",
        "svm_model.fit(X_train, y_train)\n",
        "\n",
        "# Evaluate SVM on validation set\n",
        "y_val_pred_svm = svm_model.predict(X_val)\n",
        "val_accuracy_svm = accuracy_score(y_val, y_val_pred_svm)\n",
        "print(f\"Validation Accuracy with SVM: {val_accuracy_svm * 100:.2f}%\")\n",
        "\n",
        "# Evaluate SVM on test set\n",
        "y_test_pred_svm = svm_model.predict(X_test)\n",
        "test_accuracy_svm = accuracy_score(y_test, y_test_pred_svm)\n",
        "print(f\"Test Accuracy with SVM: {test_accuracy_svm * 100:.2f}%\")"
      ],
      "metadata": {
        "colab": {
          "base_uri": "https://localhost:8080/"
        },
        "id": "KkjzpFEj1cae",
        "outputId": "19e922a3-0f83-413a-88f0-7494dc8f2789"
      },
      "execution_count": null,
      "outputs": [
        {
          "output_type": "stream",
          "name": "stdout",
          "text": [
            "Validation Accuracy with SVM: 57.14%\n",
            "Test Accuracy with SVM: 44.44%\n"
          ]
        }
      ]
    },
    {
      "cell_type": "code",
      "source": [
        "# Random Forest Classifier (a strong classifier for structured data)\n",
        "rf_model = RandomForestClassifier(n_estimators=200, random_state=42)\n",
        "rf_model.fit(X_train, y_train)\n",
        "\n",
        "# Evaluate on validation set\n",
        "y_val_pred = rf_model.predict(X_val)\n",
        "val_accuracy = accuracy_score(y_val, y_val_pred)\n",
        "print(f\"Validation Accuracy with RandomForest: {val_accuracy * 100:.2f}%\")\n",
        "\n",
        "# Evaluate on test set\n",
        "y_test_pred = rf_model.predict(X_test)\n",
        "test_accuracy = accuracy_score(y_test, y_test_pred)\n",
        "print(f\"Test Accuracy with RandomForest: {test_accuracy * 100:.2f}%\")"
      ],
      "metadata": {
        "colab": {
          "base_uri": "https://localhost:8080/"
        },
        "id": "4N0JiJhj-k1g",
        "outputId": "1840fb57-7b6b-4ae7-ea0e-76c4a00063ef"
      },
      "execution_count": null,
      "outputs": [
        {
          "output_type": "stream",
          "name": "stdout",
          "text": [
            "Validation Accuracy with RandomForest: 57.14%\n",
            "Test Accuracy with RandomForest: 44.44%\n"
          ]
        }
      ]
    },
    {
      "cell_type": "code",
      "source": [
        "!apt-get install git"
      ],
      "metadata": {
        "colab": {
          "base_uri": "https://localhost:8080/"
        },
        "id": "fQJiRCfWzUOU",
        "outputId": "01b77301-9d31-4eb8-fd12-6b384ae89998"
      },
      "execution_count": 1,
      "outputs": [
        {
          "output_type": "stream",
          "name": "stdout",
          "text": [
            "Reading package lists... Done\n",
            "Building dependency tree... Done\n",
            "Reading state information... Done\n",
            "git is already the newest version (1:2.34.1-1ubuntu1.11).\n",
            "0 upgraded, 0 newly installed, 0 to remove and 49 not upgraded.\n"
          ]
        }
      ]
    },
    {
      "cell_type": "code",
      "source": [
        "!git clone https://github.com/Gowthamipolumur/SongClassification\n"
      ],
      "metadata": {
        "colab": {
          "base_uri": "https://localhost:8080/"
        },
        "id": "e6cshcA9zjBr",
        "outputId": "48b98ee9-30e6-4848-c50a-71a3337dd355"
      },
      "execution_count": 2,
      "outputs": [
        {
          "output_type": "stream",
          "name": "stdout",
          "text": [
            "Cloning into 'SongClassification'...\n",
            "remote: Enumerating objects: 3, done.\u001b[K\n",
            "remote: Counting objects: 100% (3/3), done.\u001b[K\n",
            "remote: Total 3 (delta 0), reused 0 (delta 0), pack-reused 0 (from 0)\u001b[K\n",
            "Receiving objects: 100% (3/3), done.\n"
          ]
        }
      ]
    },
    {
      "cell_type": "code",
      "source": [
        "# Configure your Git username and email\n",
        "!git config --global user.name \"gowthamipolumur\"\n",
        "!git config --global user.email \"gowthamipolumuri@gmail.com\"\n",
        "\n",
        "\n",
        "# Move the downloaded file to the cloned repository directory\n",
        "#!mv audio_proj.ipynb https://github.com/Gowthamipolumur/SongClassification/\n"
      ],
      "metadata": {
        "id": "4RAr-vpBzoRQ"
      },
      "execution_count": 5,
      "outputs": []
    },
    {
      "cell_type": "code",
      "source": [
        "# Move the current notebook to the cloned repository directory\n",
        "!cp \"audio_proj.ipynb\" \"https://github.com/Gowthamipolumur/SongClassification/\""
      ],
      "metadata": {
        "colab": {
          "base_uri": "https://localhost:8080/"
        },
        "id": "hCc3SFn50FCx",
        "outputId": "468dd7ae-7cc9-4fce-bd7c-70842d261419"
      },
      "execution_count": 6,
      "outputs": [
        {
          "output_type": "stream",
          "name": "stdout",
          "text": [
            "cp: cannot stat 'audio_proj.ipynb': No such file or directory\n"
          ]
        }
      ]
    }
  ]
}